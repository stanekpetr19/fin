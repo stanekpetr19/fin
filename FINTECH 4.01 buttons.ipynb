{
 "cells": [
  {
   "cell_type": "code",
   "execution_count": 1,
   "metadata": {},
   "outputs": [],
   "source": [
    "from functools import wraps\n",
    "import pandas as pd\n",
    "import re\n",
    "import time\n",
    "import pickle\n",
    "import ipywidgets as widgets\n",
    "from IPython.display import display\n",
    "import csv\n",
    "\n",
    "import asyncio\n"
   ]
  },
  {
   "cell_type": "code",
   "execution_count": 2,
   "metadata": {},
   "outputs": [
    {
     "data": {
      "text/html": [
       "<div>\n",
       "<style scoped>\n",
       "    .dataframe tbody tr th:only-of-type {\n",
       "        vertical-align: middle;\n",
       "    }\n",
       "\n",
       "    .dataframe tbody tr th {\n",
       "        vertical-align: top;\n",
       "    }\n",
       "\n",
       "    .dataframe thead th {\n",
       "        text-align: right;\n",
       "    }\n",
       "</style>\n",
       "<table border=\"1\" class=\"dataframe\">\n",
       "  <thead>\n",
       "    <tr style=\"text-align: right;\">\n",
       "      <th></th>\n",
       "      <th>date</th>\n",
       "      <th>month</th>\n",
       "      <th>desc</th>\n",
       "      <th>figure</th>\n",
       "      <th>balance</th>\n",
       "      <th>category</th>\n",
       "    </tr>\n",
       "  </thead>\n",
       "  <tbody>\n",
       "    <tr>\n",
       "      <th>0</th>\n",
       "      <td>2020-05-04</td>\n",
       "      <td>5</td>\n",
       "      <td>NETONNET AB, VÄXJÖ</td>\n",
       "      <td>-539.00</td>\n",
       "      <td>25556.73</td>\n",
       "      <td>alcohol</td>\n",
       "    </tr>\n",
       "    <tr>\n",
       "      <th>1</th>\n",
       "      <td>2020-05-04</td>\n",
       "      <td>5</td>\n",
       "      <td>NETONNET AB, VÄXJÖ</td>\n",
       "      <td>-200.00</td>\n",
       "      <td>26095.73</td>\n",
       "      <td>alcohol</td>\n",
       "    </tr>\n",
       "    <tr>\n",
       "      <th>2</th>\n",
       "      <td>2020-04-30</td>\n",
       "      <td>4</td>\n",
       "      <td>VAXJO OAS CAFE, VAXJO</td>\n",
       "      <td>-98.00</td>\n",
       "      <td>26295.73</td>\n",
       "      <td>alcohol</td>\n",
       "    </tr>\n",
       "    <tr>\n",
       "      <th>3</th>\n",
       "      <td>2020-04-30</td>\n",
       "      <td>4</td>\n",
       "      <td>PRESSBYRÅN 4025376, VÄXJÖ</td>\n",
       "      <td>-70.00</td>\n",
       "      <td>26393.73</td>\n",
       "      <td>alcohol</td>\n",
       "    </tr>\n",
       "    <tr>\n",
       "      <th>4</th>\n",
       "      <td>2020-04-30</td>\n",
       "      <td>4</td>\n",
       "      <td>kontaktlös LIDL 131/VEXJO OSTERLEDEN, VEXJO</td>\n",
       "      <td>-41.70</td>\n",
       "      <td>26463.73</td>\n",
       "      <td>alcohol</td>\n",
       "    </tr>\n",
       "    <tr>\n",
       "      <th>...</th>\n",
       "      <td>...</td>\n",
       "      <td>...</td>\n",
       "      <td>...</td>\n",
       "      <td>...</td>\n",
       "      <td>...</td>\n",
       "      <td>...</td>\n",
       "    </tr>\n",
       "    <tr>\n",
       "      <th>225</th>\n",
       "      <td>2020-01-02</td>\n",
       "      <td>1</td>\n",
       "      <td>WILLYS VÄXJÖ I11, VÄXJÖ</td>\n",
       "      <td>-1200.41</td>\n",
       "      <td>25103.27</td>\n",
       "      <td>NaN</td>\n",
       "    </tr>\n",
       "    <tr>\n",
       "      <th>226</th>\n",
       "      <td>2020-01-02</td>\n",
       "      <td>1</td>\n",
       "      <td>SYSTEMBOLAGET VÄXJÖ, VÄXJÖ</td>\n",
       "      <td>-393.00</td>\n",
       "      <td>26303.68</td>\n",
       "      <td>NaN</td>\n",
       "    </tr>\n",
       "    <tr>\n",
       "      <th>227</th>\n",
       "      <td>2020-01-02</td>\n",
       "      <td>1</td>\n",
       "      <td>WILLYS VÄXJÖ I11, VÄXJÖ</td>\n",
       "      <td>-23.80</td>\n",
       "      <td>26696.68</td>\n",
       "      <td>NaN</td>\n",
       "    </tr>\n",
       "    <tr>\n",
       "      <th>228</th>\n",
       "      <td>2020-01-02</td>\n",
       "      <td>1</td>\n",
       "      <td>JULA AB, VÄXJÖ</td>\n",
       "      <td>-199.00</td>\n",
       "      <td>26720.48</td>\n",
       "      <td>NaN</td>\n",
       "    </tr>\n",
       "    <tr>\n",
       "      <th>229</th>\n",
       "      <td>2020-01-02</td>\n",
       "      <td>1</td>\n",
       "      <td>BILTEMA SWEDEN VEXJO, VEXJO</td>\n",
       "      <td>-474.60</td>\n",
       "      <td>26919.48</td>\n",
       "      <td>NaN</td>\n",
       "    </tr>\n",
       "  </tbody>\n",
       "</table>\n",
       "<p>230 rows × 6 columns</p>\n",
       "</div>"
      ],
      "text/plain": [
       "           date  month                                          desc   figure  \\\n",
       "0    2020-05-04      5                            NETONNET AB, VÄXJÖ  -539.00   \n",
       "1    2020-05-04      5                            NETONNET AB, VÄXJÖ  -200.00   \n",
       "2    2020-04-30      4                         VAXJO OAS CAFE, VAXJO   -98.00   \n",
       "3    2020-04-30      4                     PRESSBYRÅN 4025376, VÄXJÖ   -70.00   \n",
       "4    2020-04-30      4   kontaktlös LIDL 131/VEXJO OSTERLEDEN, VEXJO   -41.70   \n",
       "..          ...    ...                                           ...      ...   \n",
       "225  2020-01-02      1                       WILLYS VÄXJÖ I11, VÄXJÖ -1200.41   \n",
       "226  2020-01-02      1                    SYSTEMBOLAGET VÄXJÖ, VÄXJÖ  -393.00   \n",
       "227  2020-01-02      1                       WILLYS VÄXJÖ I11, VÄXJÖ   -23.80   \n",
       "228  2020-01-02      1                                JULA AB, VÄXJÖ  -199.00   \n",
       "229  2020-01-02      1                   BILTEMA SWEDEN VEXJO, VEXJO  -474.60   \n",
       "\n",
       "      balance category  \n",
       "0    25556.73  alcohol  \n",
       "1    26095.73  alcohol  \n",
       "2    26295.73  alcohol  \n",
       "3    26393.73  alcohol  \n",
       "4    26463.73  alcohol  \n",
       "..        ...      ...  \n",
       "225  25103.27      NaN  \n",
       "226  26303.68      NaN  \n",
       "227  26696.68      NaN  \n",
       "228  26720.48      NaN  \n",
       "229  26919.48      NaN  \n",
       "\n",
       "[230 rows x 6 columns]"
      ]
     },
     "execution_count": 2,
     "metadata": {},
     "output_type": "execute_result"
    }
   ],
   "source": [
    "fin = pd.read_csv('findata.csv')\n",
    "fin"
   ]
  },
  {
   "cell_type": "code",
   "execution_count": 3,
   "metadata": {},
   "outputs": [],
   "source": [
    "fincat = {'literature': [], \n",
    "          'revolut': ['REVOLUT'], \n",
    "          'charity': [],\n",
    "          'utilities': [], \n",
    "          'alcohol': ['SYSTEMBOLAGET'], \n",
    "          'holidays': [], \n",
    "          'gifts': [], \n",
    "          'furniture': [], \n",
    "          'tools': [], \n",
    "          'electro': [], \n",
    "          'phone': [], \n",
    "          'rent': [], \n",
    "          'car': [], \n",
    "          'food': ['WILLYS', 'LIDL', 'PRESSBYRÅN', 'MAX'], \n",
    "          'transportation': [], \n",
    "          'trips_home': [], \n",
    "          'clothes': [], \n",
    "          'freetime': [], \n",
    "          'exercise': [], \n",
    "          'health': [], \n",
    "          'savings': [], \n",
    "          'misc': [],\n",
    "          'salary' : []}\n"
   ]
  },
  {
   "cell_type": "code",
   "execution_count": null,
   "metadata": {},
   "outputs": [],
   "source": []
  },
  {
   "cell_type": "code",
   "execution_count": 16,
   "metadata": {},
   "outputs": [
    {
     "data": {
      "application/vnd.jupyter.widget-view+json": {
       "model_id": "af2cead784ed4c3e94de503cd349a878",
       "version_major": 2,
       "version_minor": 0
      },
      "text/plain": [
       "HBox(children=(Button(button_style='success', description='Next', style=ButtonStyle()), ToggleButtons(descript…"
      ]
     },
     "metadata": {},
     "output_type": "display_data"
    },
    {
     "data": {
      "application/vnd.jupyter.widget-view+json": {
       "model_id": "e45653bde1ba45f18b889d79d96d3c2d",
       "version_major": 2,
       "version_minor": 0
      },
      "text/plain": [
       "Text(value='', description='New keyword:', placeholder=' NETONNET AB, VÄXJÖ')"
      ]
     },
     "metadata": {},
     "output_type": "display_data"
    },
    {
     "data": {
      "application/vnd.jupyter.widget-view+json": {
       "model_id": "3b9b8cec154c4eaaad0de2ebe7ce34d5",
       "version_major": 2,
       "version_minor": 0
      },
      "text/plain": [
       "ToggleButtons(description='New keyword:', options=('NETONNET', 'AB,', 'VÄXJÖ'), value='NETONNET')"
      ]
     },
     "metadata": {},
     "output_type": "display_data"
    },
    {
     "name": "stdout",
     "output_type": "stream",
     "text": [
      "MATCH!!!\n",
      "MATCH!!!\n"
     ]
    },
    {
     "data": {
      "application/vnd.jupyter.widget-view+json": {
       "model_id": "9e8502e045784e1cabb5bc67bb3cc299",
       "version_major": 2,
       "version_minor": 0
      },
      "text/plain": [
       "Text(value='', description='New keyword:', placeholder=' VAXJO OAS CAFE, VAXJO')"
      ]
     },
     "metadata": {},
     "output_type": "display_data"
    },
    {
     "data": {
      "application/vnd.jupyter.widget-view+json": {
       "model_id": "3542ec1a7a6a46e7a7f634a6518edd20",
       "version_major": 2,
       "version_minor": 0
      },
      "text/plain": [
       "ToggleButtons(description='New keyword:', options=('VAXJO', 'OAS', 'CAFE,', 'VAXJO'), value='VAXJO')"
      ]
     },
     "metadata": {},
     "output_type": "display_data"
    },
    {
     "name": "stdout",
     "output_type": "stream",
     "text": [
      "MATCH!!!\n",
      "MATCH!!!\n",
      "MATCH!!!\n"
     ]
    },
    {
     "data": {
      "application/vnd.jupyter.widget-view+json": {
       "model_id": "8b6340c0b0fc47269b4356ef731bb657",
       "version_major": 2,
       "version_minor": 0
      },
      "text/plain": [
       "Text(value='', description='New keyword:', placeholder=' BURGER KING AVD, VÄXJÖ')"
      ]
     },
     "metadata": {},
     "output_type": "display_data"
    },
    {
     "data": {
      "application/vnd.jupyter.widget-view+json": {
       "model_id": "2f36ebcfd427422aad67b3f2cb8ee17a",
       "version_major": 2,
       "version_minor": 0
      },
      "text/plain": [
       "ToggleButtons(description='New keyword:', options=('BURGER', 'KING', 'AVD,', 'VÄXJÖ'), value='BURGER')"
      ]
     },
     "metadata": {},
     "output_type": "display_data"
    },
    {
     "name": "stdout",
     "output_type": "stream",
     "text": [
      "MATCH!!!\n"
     ]
    },
    {
     "data": {
      "application/vnd.jupyter.widget-view+json": {
       "model_id": "7639b7cef7c447f496eb57678bd44174",
       "version_major": 2,
       "version_minor": 0
      },
      "text/plain": [
       "Text(value='', description='New keyword:', placeholder='Autogiro CA ARABYBOST')"
      ]
     },
     "metadata": {},
     "output_type": "display_data"
    },
    {
     "data": {
      "application/vnd.jupyter.widget-view+json": {
       "model_id": "6c8ed8e0edf24c829132f7f20ceffb69",
       "version_major": 2,
       "version_minor": 0
      },
      "text/plain": [
       "ToggleButtons(description='New keyword:', options=('Autogiro', 'CA', 'ARABYBOST'), value='Autogiro')"
      ]
     },
     "metadata": {},
     "output_type": "display_data"
    },
    {
     "name": "stdout",
     "output_type": "stream",
     "text": [
      "MATCH!!!\n"
     ]
    },
    {
     "data": {
      "application/vnd.jupyter.widget-view+json": {
       "model_id": "39b0483a154e40929f3e9c77ce4875e0",
       "version_major": 2,
       "version_minor": 0
      },
      "text/plain": [
       "Text(value='', description='New keyword:', placeholder='Överföring 9159 8807910')"
      ]
     },
     "metadata": {},
     "output_type": "display_data"
    },
    {
     "data": {
      "application/vnd.jupyter.widget-view+json": {
       "model_id": "9ae5e1e7679949a183b2db37b3529c55",
       "version_major": 2,
       "version_minor": 0
      },
      "text/plain": [
       "ToggleButtons(description='New keyword:', options=('Överföring', '9159', '8807910'), value='Överföring')"
      ]
     },
     "metadata": {},
     "output_type": "display_data"
    },
    {
     "name": "stdout",
     "output_type": "stream",
     "text": [
      "MATCH!!!\n"
     ]
    },
    {
     "data": {
      "application/vnd.jupyter.widget-view+json": {
       "model_id": "036f20a06c124936a21ad88e6e21ff3a",
       "version_major": 2,
       "version_minor": 0
      },
      "text/plain": [
       "Text(value='', description='New keyword:', placeholder=' ICA SUPERMARKET DALBO, VAXJO')"
      ]
     },
     "metadata": {},
     "output_type": "display_data"
    },
    {
     "data": {
      "application/vnd.jupyter.widget-view+json": {
       "model_id": "e4c253513d5743a8adb9763e1df0c907",
       "version_major": 2,
       "version_minor": 0
      },
      "text/plain": [
       "ToggleButtons(description='New keyword:', options=('ICA', 'SUPERMARKET', 'DALBO,', 'VAXJO'), value='ICA')"
      ]
     },
     "metadata": {},
     "output_type": "display_data"
    },
    {
     "name": "stdout",
     "output_type": "stream",
     "text": [
      "MATCH!!!\n"
     ]
    },
    {
     "data": {
      "application/vnd.jupyter.widget-view+json": {
       "model_id": "6366ef5c4767480e82f231d7b7ce771e",
       "version_major": 2,
       "version_minor": 0
      },
      "text/plain": [
       "Text(value='', description='New keyword:', placeholder='Swish till PALA SHEWEISH')"
      ]
     },
     "metadata": {},
     "output_type": "display_data"
    },
    {
     "data": {
      "application/vnd.jupyter.widget-view+json": {
       "model_id": "ca02de306d9544178dfa5276ebf513ab",
       "version_major": 2,
       "version_minor": 0
      },
      "text/plain": [
       "ToggleButtons(description='New keyword:', options=('Swish', 'till', 'PALA', 'SHEWEISH'), value='Swish')"
      ]
     },
     "metadata": {},
     "output_type": "display_data"
    },
    {
     "name": "stdout",
     "output_type": "stream",
     "text": [
      "MATCH!!!\n"
     ]
    },
    {
     "data": {
      "application/vnd.jupyter.widget-view+json": {
       "model_id": "5c6110b3d2b24e898e17a910bb1cb769",
       "version_major": 2,
       "version_minor": 0
      },
      "text/plain": [
       "Text(value='', description='New keyword:', placeholder='Autogiro MEDLEY AB')"
      ]
     },
     "metadata": {},
     "output_type": "display_data"
    },
    {
     "data": {
      "application/vnd.jupyter.widget-view+json": {
       "model_id": "b91466e8e35f4df3b0c1d2f1f33e9bf7",
       "version_major": 2,
       "version_minor": 0
      },
      "text/plain": [
       "ToggleButtons(description='New keyword:', options=('Autogiro', 'MEDLEY', 'AB'), value='Autogiro')"
      ]
     },
     "metadata": {},
     "output_type": "display_data"
    },
    {
     "name": "stdout",
     "output_type": "stream",
     "text": [
      "MATCH!!!\n"
     ]
    },
    {
     "data": {
      "application/vnd.jupyter.widget-view+json": {
       "model_id": "6d73810af49447b7adadbd6614577d75",
       "version_major": 2,
       "version_minor": 0
      },
      "text/plain": [
       "Text(value='', description='New keyword:', placeholder=' WEBHALLEN.COM, INTERNET')"
      ]
     },
     "metadata": {},
     "output_type": "display_data"
    },
    {
     "data": {
      "application/vnd.jupyter.widget-view+json": {
       "model_id": "301e484865e54cfd9acb7d34cf410fb3",
       "version_major": 2,
       "version_minor": 0
      },
      "text/plain": [
       "ToggleButtons(description='New keyword:', options=('WEBHALLEN.COM,', 'INTERNET'), value='WEBHALLEN.COM,')"
      ]
     },
     "metadata": {},
     "output_type": "display_data"
    },
    {
     "name": "stdout",
     "output_type": "stream",
     "text": [
      "MATCH!!!\n"
     ]
    },
    {
     "data": {
      "application/vnd.jupyter.widget-view+json": {
       "model_id": "88017b9fd4c9482e8535188df10bb5bf",
       "version_major": 2,
       "version_minor": 0
      },
      "text/plain": [
       "Text(value='', description='New keyword:', placeholder=' BUUKS.SE, BROENDBY')"
      ]
     },
     "metadata": {},
     "output_type": "display_data"
    },
    {
     "data": {
      "application/vnd.jupyter.widget-view+json": {
       "model_id": "af9784157a4240fea4660858ec34e485",
       "version_major": 2,
       "version_minor": 0
      },
      "text/plain": [
       "ToggleButtons(description='New keyword:', options=('BUUKS.SE,', 'BROENDBY'), value='BUUKS.SE,')"
      ]
     },
     "metadata": {},
     "output_type": "display_data"
    },
    {
     "name": "stdout",
     "output_type": "stream",
     "text": [
      "MATCH!!!\n",
      "MATCH!!!\n",
      "MATCH!!!\n"
     ]
    },
    {
     "data": {
      "application/vnd.jupyter.widget-view+json": {
       "model_id": "845d9d4f322a4ba69c65f80c15c79897",
       "version_major": 2,
       "version_minor": 0
      },
      "text/plain": [
       "Text(value='', description='New keyword:', placeholder='Autogiro PLAN INTERN')"
      ]
     },
     "metadata": {},
     "output_type": "display_data"
    },
    {
     "data": {
      "application/vnd.jupyter.widget-view+json": {
       "model_id": "08bbaa9d231e4823a1d013c42d5d6ccb",
       "version_major": 2,
       "version_minor": 0
      },
      "text/plain": [
       "ToggleButtons(description='New keyword:', options=('Autogiro', 'PLAN', 'INTERN'), value='Autogiro')"
      ]
     },
     "metadata": {},
     "output_type": "display_data"
    },
    {
     "name": "stdout",
     "output_type": "stream",
     "text": [
      "MATCH!!!\n",
      "MATCH!!!\n"
     ]
    },
    {
     "data": {
      "application/vnd.jupyter.widget-view+json": {
       "model_id": "5d0775a8673144419b42b3c6c50b202f",
       "version_major": 2,
       "version_minor": 0
      },
      "text/plain": [
       "Text(value='', description='New keyword:', placeholder='LÖN')"
      ]
     },
     "metadata": {},
     "output_type": "display_data"
    },
    {
     "data": {
      "application/vnd.jupyter.widget-view+json": {
       "model_id": "b86a89ec0de8425895815b55faaf3a3f",
       "version_major": 2,
       "version_minor": 0
      },
      "text/plain": [
       "ToggleButtons(description='New keyword:', options=('LÖN',), value='LÖN')"
      ]
     },
     "metadata": {},
     "output_type": "display_data"
    },
    {
     "name": "stdout",
     "output_type": "stream",
     "text": [
      "MATCH!!!\n",
      "MATCH!!!\n"
     ]
    },
    {
     "data": {
      "application/vnd.jupyter.widget-view+json": {
       "model_id": "7e3c517c2f5447bba49fd8d61b3417e7",
       "version_major": 2,
       "version_minor": 0
      },
      "text/plain": [
       "Text(value='', description='New keyword:', placeholder=' Elgiganten.se, Kistad')"
      ]
     },
     "metadata": {},
     "output_type": "display_data"
    },
    {
     "data": {
      "application/vnd.jupyter.widget-view+json": {
       "model_id": "571297684d194f3a9caec5f94db804a6",
       "version_major": 2,
       "version_minor": 0
      },
      "text/plain": [
       "ToggleButtons(description='New keyword:', options=('Elgiganten.se,', 'Kistad'), value='Elgiganten.se,')"
      ]
     },
     "metadata": {},
     "output_type": "display_data"
    },
    {
     "name": "stdout",
     "output_type": "stream",
     "text": [
      "MATCH!!!\n",
      "MATCH!!!\n",
      "MATCH!!!\n"
     ]
    },
    {
     "data": {
      "application/vnd.jupyter.widget-view+json": {
       "model_id": "2b7c6045c2ca4747b912edd635f62509",
       "version_major": 2,
       "version_minor": 0
      },
      "text/plain": [
       "Text(value='', description='New keyword:', placeholder=' MEDIA MARKT E-HANDEL, STOCKSUND')"
      ]
     },
     "metadata": {},
     "output_type": "display_data"
    },
    {
     "data": {
      "application/vnd.jupyter.widget-view+json": {
       "model_id": "330c2277ae0a495480ec2252188f3783",
       "version_major": 2,
       "version_minor": 0
      },
      "text/plain": [
       "ToggleButtons(description='New keyword:', options=('MEDIA', 'MARKT', 'E-HANDEL,', 'STOCKSUND'), value='MEDIA')"
      ]
     },
     "metadata": {},
     "output_type": "display_data"
    },
    {
     "name": "stdout",
     "output_type": "stream",
     "text": [
      "MATCH!!!\n",
      "MATCH!!!\n",
      "MATCH!!!\n",
      "MATCH!!!\n"
     ]
    },
    {
     "data": {
      "application/vnd.jupyter.widget-view+json": {
       "model_id": "e5ce2306a4be4118aae1b2a4e94ed7eb",
       "version_major": 2,
       "version_minor": 0
      },
      "text/plain": [
       "Text(value='', description='New keyword:', placeholder=' CYKELGEAR.SE, TERNDRUP')"
      ]
     },
     "metadata": {},
     "output_type": "display_data"
    },
    {
     "data": {
      "application/vnd.jupyter.widget-view+json": {
       "model_id": "8efb33fc08b246e0bfebdcb94d63e9ba",
       "version_major": 2,
       "version_minor": 0
      },
      "text/plain": [
       "ToggleButtons(description='New keyword:', options=('CYKELGEAR.SE,', 'TERNDRUP'), value='CYKELGEAR.SE,')"
      ]
     },
     "metadata": {},
     "output_type": "display_data"
    },
    {
     "name": "stdout",
     "output_type": "stream",
     "text": [
      "MATCH!!!\n",
      "MATCH!!!\n"
     ]
    },
    {
     "data": {
      "application/vnd.jupyter.widget-view+json": {
       "model_id": "2616976f34c948279e12642f3e3945fb",
       "version_major": 2,
       "version_minor": 0
      },
      "text/plain": [
       "Text(value='', description='New keyword:', placeholder=' CYKEL & FRITIDSCENTER, VÄXJÖ')"
      ]
     },
     "metadata": {},
     "output_type": "display_data"
    },
    {
     "data": {
      "application/vnd.jupyter.widget-view+json": {
       "model_id": "cdf48be3fcf643a6880394e578b6721a",
       "version_major": 2,
       "version_minor": 0
      },
      "text/plain": [
       "ToggleButtons(description='New keyword:', options=('CYKEL', '&', 'FRITIDSCENTER,', 'VÄXJÖ'), value='CYKEL')"
      ]
     },
     "metadata": {},
     "output_type": "display_data"
    },
    {
     "name": "stdout",
     "output_type": "stream",
     "text": [
      "MATCH!!!\n",
      "MATCH!!!\n",
      "MATCH!!!\n"
     ]
    },
    {
     "data": {
      "application/vnd.jupyter.widget-view+json": {
       "model_id": "d4a31401562d4e2da57eccad28ecd2bb",
       "version_major": 2,
       "version_minor": 0
      },
      "text/plain": [
       "Text(value='', description='New keyword:', placeholder=' WIKIPEDIA GIFT, 877-600-9454')"
      ]
     },
     "metadata": {},
     "output_type": "display_data"
    },
    {
     "data": {
      "application/vnd.jupyter.widget-view+json": {
       "model_id": "90d6a32c3f8140c99e5fbbf3a5cf86e2",
       "version_major": 2,
       "version_minor": 0
      },
      "text/plain": [
       "ToggleButtons(description='New keyword:', options=('WIKIPEDIA', 'GIFT,', '877-600-9454'), value='WIKIPEDIA')"
      ]
     },
     "metadata": {},
     "output_type": "display_data"
    },
    {
     "name": "stdout",
     "output_type": "stream",
     "text": [
      "MATCH!!!\n",
      "MATCH!!!\n",
      "MATCH!!!\n"
     ]
    },
    {
     "data": {
      "application/vnd.jupyter.widget-view+json": {
       "model_id": "fd1a7c039dc545caa9837c60fe941119",
       "version_major": 2,
       "version_minor": 0
      },
      "text/plain": [
       "Text(value='', description='New keyword:', placeholder=' kontaktlös BILTEMA SWEDEN VEXJO, VEXJO')"
      ]
     },
     "metadata": {},
     "output_type": "display_data"
    },
    {
     "data": {
      "application/vnd.jupyter.widget-view+json": {
       "model_id": "c70cb8e9a6894429a4e72a932be09017",
       "version_major": 2,
       "version_minor": 0
      },
      "text/plain": [
       "ToggleButtons(description='New keyword:', options=('kontaktlös', 'BILTEMA', 'SWEDEN', 'VEXJO,', 'VEXJO'), valu…"
      ]
     },
     "metadata": {},
     "output_type": "display_data"
    },
    {
     "name": "stdout",
     "output_type": "stream",
     "text": [
      "MATCH!!!\n",
      "MATCH!!!\n",
      "MATCH!!!\n"
     ]
    },
    {
     "data": {
      "application/vnd.jupyter.widget-view+json": {
       "model_id": "d6dfc5ddc9dd42c99693b357cfe07f43",
       "version_major": 2,
       "version_minor": 0
      },
      "text/plain": [
       "Text(value='', description='New keyword:', placeholder=' CDON SE, MALMÖ')"
      ]
     },
     "metadata": {},
     "output_type": "display_data"
    },
    {
     "data": {
      "application/vnd.jupyter.widget-view+json": {
       "model_id": "73bba5b69ba6460780474c1ab00a87c8",
       "version_major": 2,
       "version_minor": 0
      },
      "text/plain": [
       "ToggleButtons(description='New keyword:', options=('CDON', 'SE,', 'MALMÖ'), value='CDON')"
      ]
     },
     "metadata": {},
     "output_type": "display_data"
    },
    {
     "name": "stdout",
     "output_type": "stream",
     "text": [
      "MATCH!!!\n",
      "MATCH!!!\n"
     ]
    },
    {
     "data": {
      "application/vnd.jupyter.widget-view+json": {
       "model_id": "6d30e6ff543e4aa5816e1776cda16f68",
       "version_major": 2,
       "version_minor": 0
      },
      "text/plain": [
       "Text(value='', description='New keyword:', placeholder=' ZALANDO SE, BERLIN')"
      ]
     },
     "metadata": {},
     "output_type": "display_data"
    },
    {
     "data": {
      "application/vnd.jupyter.widget-view+json": {
       "model_id": "b9ee25697c5a441a8ab6497b44df0c04",
       "version_major": 2,
       "version_minor": 0
      },
      "text/plain": [
       "ToggleButtons(description='New keyword:', options=('ZALANDO', 'SE,', 'BERLIN'), value='ZALANDO')"
      ]
     },
     "metadata": {},
     "output_type": "display_data"
    },
    {
     "name": "stdout",
     "output_type": "stream",
     "text": [
      "MATCH!!!\n",
      "MATCH!!!\n",
      "MATCH!!!\n"
     ]
    },
    {
     "data": {
      "application/vnd.jupyter.widget-view+json": {
       "model_id": "90b080c0f85747c9af97cf50b22990ab",
       "version_major": 2,
       "version_minor": 0
      },
      "text/plain": [
       "Text(value='', description='New keyword:', placeholder=' 16127 - NETTO HOVSHAGA, VAXJO')"
      ]
     },
     "metadata": {},
     "output_type": "display_data"
    },
    {
     "data": {
      "application/vnd.jupyter.widget-view+json": {
       "model_id": "f30ef9a0dc774fc3bc81ab00d2e9feeb",
       "version_major": 2,
       "version_minor": 0
      },
      "text/plain": [
       "ToggleButtons(description='New keyword:', options=('16127', '-', 'NETTO', 'HOVSHAGA,', 'VAXJO'), value='16127'…"
      ]
     },
     "metadata": {},
     "output_type": "display_data"
    },
    {
     "name": "stdout",
     "output_type": "stream",
     "text": [
      "MATCH!!!\n",
      "MATCH!!!\n"
     ]
    },
    {
     "data": {
      "application/vnd.jupyter.widget-view+json": {
       "model_id": "900820ee4ea444d799f09ebf14842a53",
       "version_major": 2,
       "version_minor": 0
      },
      "text/plain": [
       "Text(value='', description='New keyword:', placeholder=' MMP JOUR, VÄXJÖ')"
      ]
     },
     "metadata": {},
     "output_type": "display_data"
    },
    {
     "data": {
      "application/vnd.jupyter.widget-view+json": {
       "model_id": "0554ac6301554602b8b437cfb6492a96",
       "version_major": 2,
       "version_minor": 0
      },
      "text/plain": [
       "ToggleButtons(description='New keyword:', options=('MMP', 'JOUR,', 'VÄXJÖ'), value='MMP')"
      ]
     },
     "metadata": {},
     "output_type": "display_data"
    },
    {
     "name": "stdout",
     "output_type": "stream",
     "text": [
      "MATCH!!!\n",
      "MATCH!!!\n",
      "MATCH!!!\n"
     ]
    },
    {
     "data": {
      "application/vnd.jupyter.widget-view+json": {
       "model_id": "f49f57c104364a6dbe30ad3f8d0b456f",
       "version_major": 2,
       "version_minor": 0
      },
      "text/plain": [
       "Text(value='', description='New keyword:', placeholder=' INTERSPORT VAXJ, VAXJO')"
      ]
     },
     "metadata": {},
     "output_type": "display_data"
    },
    {
     "data": {
      "application/vnd.jupyter.widget-view+json": {
       "model_id": "2cd07879d78a4c55b7d294ab5b0bb198",
       "version_major": 2,
       "version_minor": 0
      },
      "text/plain": [
       "ToggleButtons(description='New keyword:', options=('INTERSPORT', 'VAXJ,', 'VAXJO'), value='INTERSPORT')"
      ]
     },
     "metadata": {},
     "output_type": "display_data"
    },
    {
     "name": "stdout",
     "output_type": "stream",
     "text": [
      "MATCH!!!\n",
      "MATCH!!!\n",
      "MATCH!!!\n"
     ]
    },
    {
     "data": {
      "application/vnd.jupyter.widget-view+json": {
       "model_id": "fb8f6a19e51547f9a98580919dd66f2d",
       "version_major": 2,
       "version_minor": 0
      },
      "text/plain": [
       "Text(value='', description='New keyword:', placeholder=' CLAS OHLSON, VAXJO')"
      ]
     },
     "metadata": {},
     "output_type": "display_data"
    },
    {
     "data": {
      "application/vnd.jupyter.widget-view+json": {
       "model_id": "160664e958894e2e9c06a8f2512caf86",
       "version_major": 2,
       "version_minor": 0
      },
      "text/plain": [
       "ToggleButtons(description='New keyword:', options=('CLAS', 'OHLSON,', 'VAXJO'), value='CLAS')"
      ]
     },
     "metadata": {},
     "output_type": "display_data"
    },
    {
     "name": "stdout",
     "output_type": "stream",
     "text": [
      "MATCH!!!\n",
      "MATCH!!!\n"
     ]
    },
    {
     "data": {
      "application/vnd.jupyter.widget-view+json": {
       "model_id": "d40b492f52d243a09e51c2016a4f503e",
       "version_major": 2,
       "version_minor": 0
      },
      "text/plain": [
       "Text(value='', description='New keyword:', placeholder='Stanek')"
      ]
     },
     "metadata": {},
     "output_type": "display_data"
    },
    {
     "data": {
      "application/vnd.jupyter.widget-view+json": {
       "model_id": "e6b53b51d1124094a91478737a0f72b2",
       "version_major": 2,
       "version_minor": 0
      },
      "text/plain": [
       "ToggleButtons(description='New keyword:', options=('Stanek',), value='Stanek')"
      ]
     },
     "metadata": {},
     "output_type": "display_data"
    },
    {
     "name": "stdout",
     "output_type": "stream",
     "text": [
      "MATCH!!!\n",
      "MATCH!!!\n",
      "MATCH!!!\n",
      "MATCH!!!\n"
     ]
    },
    {
     "data": {
      "application/vnd.jupyter.widget-view+json": {
       "model_id": "0cf66c0a154e402c87b58503bff6bd8e",
       "version_major": 2,
       "version_minor": 0
      },
      "text/plain": [
       "Text(value='', description='New keyword:', placeholder=' BILTEMA SWEDEN VEXJO, VEXJO')"
      ]
     },
     "metadata": {},
     "output_type": "display_data"
    },
    {
     "data": {
      "application/vnd.jupyter.widget-view+json": {
       "model_id": "aebea9b9468644cc9d2ddd36417025d1",
       "version_major": 2,
       "version_minor": 0
      },
      "text/plain": [
       "ToggleButtons(description='New keyword:', options=('BILTEMA', 'SWEDEN', 'VEXJO,', 'VEXJO'), value='BILTEMA')"
      ]
     },
     "metadata": {},
     "output_type": "display_data"
    },
    {
     "name": "stdout",
     "output_type": "stream",
     "text": [
      "MATCH!!!\n",
      "MATCH!!!\n"
     ]
    },
    {
     "data": {
      "application/vnd.jupyter.widget-view+json": {
       "model_id": "c631dc7ef0b046bc9b4f6ade0fe56afb",
       "version_major": 2,
       "version_minor": 0
      },
      "text/plain": [
       "Text(value='', description='New keyword:', placeholder='Insättning från annan bank FKASSA')"
      ]
     },
     "metadata": {},
     "output_type": "display_data"
    },
    {
     "data": {
      "application/vnd.jupyter.widget-view+json": {
       "model_id": "876c1a052fc44c40a9e2de769e562b72",
       "version_major": 2,
       "version_minor": 0
      },
      "text/plain": [
       "ToggleButtons(description='New keyword:', options=('Insättning', 'från', 'annan', 'bank', 'FKASSA'), value='In…"
      ]
     },
     "metadata": {},
     "output_type": "display_data"
    },
    {
     "name": "stdout",
     "output_type": "stream",
     "text": [
      "MATCH!!!\n",
      "MATCH!!!\n"
     ]
    },
    {
     "data": {
      "application/vnd.jupyter.widget-view+json": {
       "model_id": "d9f81c04462b4f9b933c7233d2eb8c1a",
       "version_major": 2,
       "version_minor": 0
      },
      "text/plain": [
       "Text(value='', description='New keyword:', placeholder=' EPIDOTEN AB, VÄXJÖ')"
      ]
     },
     "metadata": {},
     "output_type": "display_data"
    },
    {
     "data": {
      "application/vnd.jupyter.widget-view+json": {
       "model_id": "3da514afc1a74ea29ad15dd8a27e4633",
       "version_major": 2,
       "version_minor": 0
      },
      "text/plain": [
       "ToggleButtons(description='New keyword:', options=('EPIDOTEN', 'AB,', 'VÄXJÖ'), value='EPIDOTEN')"
      ]
     },
     "metadata": {},
     "output_type": "display_data"
    },
    {
     "name": "stdout",
     "output_type": "stream",
     "text": [
      "MATCH!!!\n",
      "MATCH!!!\n",
      "MATCH!!!\n"
     ]
    },
    {
     "data": {
      "application/vnd.jupyter.widget-view+json": {
       "model_id": "bedded771e5f4b1998ac3fbf34440dd3",
       "version_major": 2,
       "version_minor": 0
      },
      "text/plain": [
       "Text(value='', description='New keyword:', placeholder='BG 5328-8346 VÄXJÖ ENERGI AB')"
      ]
     },
     "metadata": {},
     "output_type": "display_data"
    },
    {
     "data": {
      "application/vnd.jupyter.widget-view+json": {
       "model_id": "ace7724168a747d9bd28a79eacdc0455",
       "version_major": 2,
       "version_minor": 0
      },
      "text/plain": [
       "ToggleButtons(description='New keyword:', options=('BG', '5328-8346', 'VÄXJÖ', 'ENERGI', 'AB'), value='BG')"
      ]
     },
     "metadata": {},
     "output_type": "display_data"
    },
    {
     "name": "stdout",
     "output_type": "stream",
     "text": [
      "MATCH!!!\n",
      "MATCH!!!\n",
      "MATCH!!!\n"
     ]
    },
    {
     "data": {
      "application/vnd.jupyter.widget-view+json": {
       "model_id": "10fa044429da4a978da0b9a5b7fc7f2b",
       "version_major": 2,
       "version_minor": 0
      },
      "text/plain": [
       "Text(value='', description='New keyword:', placeholder=' ESPRESSO HOUSE 214, VÄXJÖ')"
      ]
     },
     "metadata": {},
     "output_type": "display_data"
    },
    {
     "data": {
      "application/vnd.jupyter.widget-view+json": {
       "model_id": "2e618e62863643a8a47c151ccd89f722",
       "version_major": 2,
       "version_minor": 0
      },
      "text/plain": [
       "ToggleButtons(description='New keyword:', options=('ESPRESSO', 'HOUSE', '214,', 'VÄXJÖ'), value='ESPRESSO')"
      ]
     },
     "metadata": {},
     "output_type": "display_data"
    },
    {
     "name": "stdout",
     "output_type": "stream",
     "text": [
      "MATCH!!!\n",
      "MATCH!!!\n",
      "MATCH!!!\n",
      "MATCH!!!\n",
      "MATCH!!!\n",
      "MATCH!!!\n"
     ]
    },
    {
     "data": {
      "application/vnd.jupyter.widget-view+json": {
       "model_id": "b149778425e64029a02418043d1ddc11",
       "version_major": 2,
       "version_minor": 0
      },
      "text/plain": [
       "Text(value='', description='New keyword:', placeholder='Månadsavgift BankkortExtra')"
      ]
     },
     "metadata": {},
     "output_type": "display_data"
    },
    {
     "data": {
      "application/vnd.jupyter.widget-view+json": {
       "model_id": "d7d71a79f3054ea6859996869e8a5783",
       "version_major": 2,
       "version_minor": 0
      },
      "text/plain": [
       "ToggleButtons(description='New keyword:', options=('Månadsavgift', 'BankkortExtra'), value='Månadsavgift')"
      ]
     },
     "metadata": {},
     "output_type": "display_data"
    },
    {
     "name": "stdout",
     "output_type": "stream",
     "text": [
      "MATCH!!!\n",
      "MATCH!!!\n",
      "MATCH!!!\n"
     ]
    },
    {
     "data": {
      "application/vnd.jupyter.widget-view+json": {
       "model_id": "aed4f2f6a67b43b2aa9ed109527d0a78",
       "version_major": 2,
       "version_minor": 0
      },
      "text/plain": [
       "Text(value='', description='New keyword:', placeholder='PG 4902304-7 BIXIA AB')"
      ]
     },
     "metadata": {},
     "output_type": "display_data"
    },
    {
     "data": {
      "application/vnd.jupyter.widget-view+json": {
       "model_id": "71739a2d18ea4e3f947b8bbf95aa95a2",
       "version_major": 2,
       "version_minor": 0
      },
      "text/plain": [
       "ToggleButtons(description='New keyword:', options=('PG', '4902304-7', 'BIXIA', 'AB'), value='PG')"
      ]
     },
     "metadata": {},
     "output_type": "display_data"
    },
    {
     "name": "stdout",
     "output_type": "stream",
     "text": [
      "MATCH!!!\n",
      "MATCH!!!\n"
     ]
    },
    {
     "data": {
      "application/vnd.jupyter.widget-view+json": {
       "model_id": "7667e56032654835a93516492c7dd467",
       "version_major": 2,
       "version_minor": 0
      },
      "text/plain": [
       "Text(value='', description='New keyword:', placeholder=' LINNEAMOTTAGNINGEN, VAXJO')"
      ]
     },
     "metadata": {},
     "output_type": "display_data"
    },
    {
     "data": {
      "application/vnd.jupyter.widget-view+json": {
       "model_id": "db088a13c0fa448285b95fec2816e982",
       "version_major": 2,
       "version_minor": 0
      },
      "text/plain": [
       "ToggleButtons(description='New keyword:', options=('LINNEAMOTTAGNINGEN,', 'VAXJO'), value='LINNEAMOTTAGNINGEN,…"
      ]
     },
     "metadata": {},
     "output_type": "display_data"
    },
    {
     "name": "stdout",
     "output_type": "stream",
     "text": [
      "MATCH!!!\n",
      "MATCH!!!\n",
      "MATCH!!!\n",
      "MATCH!!!\n",
      "MATCH!!!\n",
      "MATCH!!!\n"
     ]
    },
    {
     "data": {
      "application/vnd.jupyter.widget-view+json": {
       "model_id": "56f65f9967f44624a6c7b05765cb250d",
       "version_major": 2,
       "version_minor": 0
      },
      "text/plain": [
       "Text(value='', description='New keyword:', placeholder=' LANDSTINGET KRONOBERG, VEXJO')"
      ]
     },
     "metadata": {},
     "output_type": "display_data"
    },
    {
     "data": {
      "application/vnd.jupyter.widget-view+json": {
       "model_id": "cd3665c3f8874e6a9be0d4acbb48d4ad",
       "version_major": 2,
       "version_minor": 0
      },
      "text/plain": [
       "ToggleButtons(description='New keyword:', options=('LANDSTINGET', 'KRONOBERG,', 'VEXJO'), value='LANDSTINGET')"
      ]
     },
     "metadata": {},
     "output_type": "display_data"
    },
    {
     "name": "stdout",
     "output_type": "stream",
     "text": [
      "MATCH!!!\n",
      "MATCH!!!\n",
      "MATCH!!!\n",
      "MATCH!!!\n"
     ]
    },
    {
     "data": {
      "application/vnd.jupyter.widget-view+json": {
       "model_id": "f4013c9398584276b475c6522b3bb103",
       "version_major": 2,
       "version_minor": 0
      },
      "text/plain": [
       "Text(value='', description='New keyword:', placeholder='Överföring 9159 8581432')"
      ]
     },
     "metadata": {},
     "output_type": "display_data"
    },
    {
     "data": {
      "application/vnd.jupyter.widget-view+json": {
       "model_id": "43322e858e904f97812258d0be1820c4",
       "version_major": 2,
       "version_minor": 0
      },
      "text/plain": [
       "ToggleButtons(description='New keyword:', options=('Överföring', '9159', '8581432'), value='Överföring')"
      ]
     },
     "metadata": {},
     "output_type": "display_data"
    },
    {
     "name": "stdout",
     "output_type": "stream",
     "text": [
      "MATCH!!!\n",
      "MATCH!!!\n"
     ]
    },
    {
     "data": {
      "application/vnd.jupyter.widget-view+json": {
       "model_id": "c3b9545aa41846628292f31194acd7d5",
       "version_major": 2,
       "version_minor": 0
      },
      "text/plain": [
       "Text(value='', description='New keyword:', placeholder=' HM.COM, Stockholm')"
      ]
     },
     "metadata": {},
     "output_type": "display_data"
    },
    {
     "data": {
      "application/vnd.jupyter.widget-view+json": {
       "model_id": "18c4af6a477e4d4db19e94b58480f38d",
       "version_major": 2,
       "version_minor": 0
      },
      "text/plain": [
       "ToggleButtons(description='New keyword:', options=('HM.COM,', 'Stockholm'), value='HM.COM,')"
      ]
     },
     "metadata": {},
     "output_type": "display_data"
    },
    {
     "name": "stdout",
     "output_type": "stream",
     "text": [
      "MATCH!!!\n",
      "MATCH!!!\n"
     ]
    },
    {
     "data": {
      "application/vnd.jupyter.widget-view+json": {
       "model_id": "6cf9c85ec94347aca4e48673ff26eed7",
       "version_major": 2,
       "version_minor": 0
      },
      "text/plain": [
       "Text(value='', description='New keyword:', placeholder=' NETFLIX.COM, 020790637')"
      ]
     },
     "metadata": {},
     "output_type": "display_data"
    },
    {
     "data": {
      "application/vnd.jupyter.widget-view+json": {
       "model_id": "083c6fa85fb64d79ad6d8181489be9cd",
       "version_major": 2,
       "version_minor": 0
      },
      "text/plain": [
       "ToggleButtons(description='New keyword:', options=('NETFLIX.COM,', '020790637'), value='NETFLIX.COM,')"
      ]
     },
     "metadata": {},
     "output_type": "display_data"
    },
    {
     "name": "stdout",
     "output_type": "stream",
     "text": [
      "MATCH!!!\n",
      "MATCH!!!\n",
      "MATCH!!!\n",
      "MATCH!!!\n",
      "MATCH!!!\n"
     ]
    },
    {
     "data": {
      "application/vnd.jupyter.widget-view+json": {
       "model_id": "56f53971079f44c5a9002d5a5af9d30a",
       "version_major": 2,
       "version_minor": 0
      },
      "text/plain": [
       "Text(value='', description='New keyword:', placeholder=' CIRCLE K VEXJO HEJAREGATA, VEXJO')"
      ]
     },
     "metadata": {},
     "output_type": "display_data"
    },
    {
     "data": {
      "application/vnd.jupyter.widget-view+json": {
       "model_id": "772c23052a69466b93025c58124eb30a",
       "version_major": 2,
       "version_minor": 0
      },
      "text/plain": [
       "ToggleButtons(description='New keyword:', options=('CIRCLE', 'K', 'VEXJO', 'HEJAREGATA,', 'VEXJO'), value='CIR…"
      ]
     },
     "metadata": {},
     "output_type": "display_data"
    },
    {
     "name": "stdout",
     "output_type": "stream",
     "text": [
      "MATCH!!!\n",
      "MATCH!!!\n"
     ]
    },
    {
     "data": {
      "application/vnd.jupyter.widget-view+json": {
       "model_id": "83c7498f7a014e929ec6ddd01cf7beb3",
       "version_major": 2,
       "version_minor": 0
      },
      "text/plain": [
       "Text(value='', description='New keyword:', placeholder=' APOTEK HJARTAT CENTRALLAS, VAXJO')"
      ]
     },
     "metadata": {},
     "output_type": "display_data"
    },
    {
     "data": {
      "application/vnd.jupyter.widget-view+json": {
       "model_id": "9b24ccb739cd4dceab24646c0d665a85",
       "version_major": 2,
       "version_minor": 0
      },
      "text/plain": [
       "ToggleButtons(description='New keyword:', options=('APOTEK', 'HJARTAT', 'CENTRALLAS,', 'VAXJO'), value='APOTEK…"
      ]
     },
     "metadata": {},
     "output_type": "display_data"
    },
    {
     "name": "stdout",
     "output_type": "stream",
     "text": [
      "MATCH!!!\n",
      "MATCH!!!\n",
      "MATCH!!!\n",
      "MATCH!!!\n"
     ]
    },
    {
     "data": {
      "application/vnd.jupyter.widget-view+json": {
       "model_id": "492bf3e92f8d4d75a32a700fd92e93ff",
       "version_major": 2,
       "version_minor": 0
      },
      "text/plain": [
       "Text(value='', description='New keyword:', placeholder=' ?HL?NS Karlskrona, Karlskrona')"
      ]
     },
     "metadata": {},
     "output_type": "display_data"
    },
    {
     "data": {
      "application/vnd.jupyter.widget-view+json": {
       "model_id": "bcd6c6c46ff849dda61e1f3571291904",
       "version_major": 2,
       "version_minor": 0
      },
      "text/plain": [
       "ToggleButtons(description='New keyword:', options=('?HL?NS', 'Karlskrona,', 'Karlskrona'), value='?HL?NS')"
      ]
     },
     "metadata": {},
     "output_type": "display_data"
    },
    {
     "name": "stdout",
     "output_type": "stream",
     "text": [
      "MATCH!!!\n",
      "MATCH!!!\n",
      "MATCH!!!\n"
     ]
    },
    {
     "data": {
      "application/vnd.jupyter.widget-view+json": {
       "model_id": "0306aaafbedf4b8baca517592415f2d9",
       "version_major": 2,
       "version_minor": 0
      },
      "text/plain": [
       "Text(value='', description='New keyword:', placeholder=' LIVETS RESTAURA, SOLNA')"
      ]
     },
     "metadata": {},
     "output_type": "display_data"
    },
    {
     "data": {
      "application/vnd.jupyter.widget-view+json": {
       "model_id": "bcd6b508260d42579bc1d934a67f15c4",
       "version_major": 2,
       "version_minor": 0
      },
      "text/plain": [
       "ToggleButtons(description='New keyword:', options=('LIVETS', 'RESTAURA,', 'SOLNA'), value='LIVETS')"
      ]
     },
     "metadata": {},
     "output_type": "display_data"
    },
    {
     "name": "stdout",
     "output_type": "stream",
     "text": [
      "MATCH!!!\n",
      "MATCH!!!\n",
      "MATCH!!!\n",
      "MATCH!!!\n",
      "MATCH!!!\n",
      "MATCH!!!\n"
     ]
    },
    {
     "data": {
      "application/vnd.jupyter.widget-view+json": {
       "model_id": "3514d5c5771a4a34a89182838dff46fd",
       "version_major": 2,
       "version_minor": 0
      },
      "text/plain": [
       "Text(value='', description='New keyword:', placeholder=' CYRANO, VEXJO')"
      ]
     },
     "metadata": {},
     "output_type": "display_data"
    },
    {
     "data": {
      "application/vnd.jupyter.widget-view+json": {
       "model_id": "e3beaca2064e461a97555a0ba1cf3f53",
       "version_major": 2,
       "version_minor": 0
      },
      "text/plain": [
       "ToggleButtons(description='New keyword:', options=('CYRANO,', 'VEXJO'), value='CYRANO,')"
      ]
     },
     "metadata": {},
     "output_type": "display_data"
    },
    {
     "name": "stdout",
     "output_type": "stream",
     "text": [
      "MATCH!!!\n",
      "MATCH!!!\n"
     ]
    },
    {
     "data": {
      "application/vnd.jupyter.widget-view+json": {
       "model_id": "33f177eae39e426ab052cc79f2717e61",
       "version_major": 2,
       "version_minor": 0
      },
      "text/plain": [
       "Text(value='', description='New keyword:', placeholder=' HEMKÖP TORSPLAN STOCKH, STOCKHOLM')"
      ]
     },
     "metadata": {},
     "output_type": "display_data"
    },
    {
     "data": {
      "application/vnd.jupyter.widget-view+json": {
       "model_id": "630384a78ea14b678f3d3e2c171e9a84",
       "version_major": 2,
       "version_minor": 0
      },
      "text/plain": [
       "ToggleButtons(description='New keyword:', options=('HEMKÖP', 'TORSPLAN', 'STOCKH,', 'STOCKHOLM'), value='HEMKÖ…"
      ]
     },
     "metadata": {},
     "output_type": "display_data"
    },
    {
     "name": "stdout",
     "output_type": "stream",
     "text": [
      "MATCH!!!\n",
      "MATCH!!!\n"
     ]
    },
    {
     "data": {
      "application/vnd.jupyter.widget-view+json": {
       "model_id": "0a23bc8e6e9a427395910b467ecf0b52",
       "version_major": 2,
       "version_minor": 0
      },
      "text/plain": [
       "Text(value='', description='New keyword:', placeholder=' VOLT T12 VÄXJÖ, VÄXJÖ')"
      ]
     },
     "metadata": {},
     "output_type": "display_data"
    },
    {
     "data": {
      "application/vnd.jupyter.widget-view+json": {
       "model_id": "a4545e1b6938414cafcafe5dc30ab5a3",
       "version_major": 2,
       "version_minor": 0
      },
      "text/plain": [
       "ToggleButtons(description='New keyword:', options=('VOLT', 'T12', 'VÄXJÖ,', 'VÄXJÖ'), value='VOLT')"
      ]
     },
     "metadata": {},
     "output_type": "display_data"
    },
    {
     "name": "stdout",
     "output_type": "stream",
     "text": [
      "MATCH!!!\n",
      "MATCH!!!\n",
      "MATCH!!!\n",
      "MATCH!!!\n",
      "MATCH!!!\n",
      "MATCH!!!\n",
      "MATCH!!!\n",
      "MATCH!!!\n"
     ]
    },
    {
     "data": {
      "application/vnd.jupyter.widget-view+json": {
       "model_id": "90e2f5c8c4fe48adbbcc77b4d65dd456",
       "version_major": 2,
       "version_minor": 0
      },
      "text/plain": [
       "Text(value='', description='New keyword:', placeholder=' LEVIS STORE L75 VÄXJÖ, VÄXJÖ')"
      ]
     },
     "metadata": {},
     "output_type": "display_data"
    },
    {
     "data": {
      "application/vnd.jupyter.widget-view+json": {
       "model_id": "f9da0c9215ef4bbf9064a72e45652c00",
       "version_major": 2,
       "version_minor": 0
      },
      "text/plain": [
       "ToggleButtons(description='New keyword:', options=('LEVIS', 'STORE', 'L75', 'VÄXJÖ,', 'VÄXJÖ'), value='LEVIS')"
      ]
     },
     "metadata": {},
     "output_type": "display_data"
    },
    {
     "name": "stdout",
     "output_type": "stream",
     "text": [
      "MATCH!!!\n",
      "MATCH!!!\n",
      "MATCH!!!\n"
     ]
    },
    {
     "data": {
      "application/vnd.jupyter.widget-view+json": {
       "model_id": "7adc3026fa7e4ad9b8fdad522f3a9e6d",
       "version_major": 2,
       "version_minor": 0
      },
      "text/plain": [
       "Text(value='', description='New keyword:', placeholder=' KAPPAHL 128, VAXJO')"
      ]
     },
     "metadata": {},
     "output_type": "display_data"
    },
    {
     "data": {
      "application/vnd.jupyter.widget-view+json": {
       "model_id": "e0d25809cd3e49b49efd805a9c2fa74b",
       "version_major": 2,
       "version_minor": 0
      },
      "text/plain": [
       "ToggleButtons(description='New keyword:', options=('KAPPAHL', '128,', 'VAXJO'), value='KAPPAHL')"
      ]
     },
     "metadata": {},
     "output_type": "display_data"
    },
    {
     "name": "stdout",
     "output_type": "stream",
     "text": [
      "MATCH!!!\n",
      "MATCH!!!\n"
     ]
    },
    {
     "data": {
      "application/vnd.jupyter.widget-view+json": {
       "model_id": "612be20fb43e498394555962bbc39a34",
       "version_major": 2,
       "version_minor": 0
      },
      "text/plain": [
       "Text(value='', description='New keyword:', placeholder=' BARA PIZZA, VÄXJÖ')"
      ]
     },
     "metadata": {},
     "output_type": "display_data"
    },
    {
     "data": {
      "application/vnd.jupyter.widget-view+json": {
       "model_id": "80ce0bc6b1d44c1bbd269ccd8beb497f",
       "version_major": 2,
       "version_minor": 0
      },
      "text/plain": [
       "ToggleButtons(description='New keyword:', options=('BARA', 'PIZZA,', 'VÄXJÖ'), value='BARA')"
      ]
     },
     "metadata": {},
     "output_type": "display_data"
    },
    {
     "name": "stdout",
     "output_type": "stream",
     "text": [
      "MATCH!!!\n",
      "MATCH!!!\n",
      "MATCH!!!\n",
      "MATCH!!!\n",
      "MATCH!!!\n",
      "MATCH!!!\n"
     ]
    },
    {
     "data": {
      "application/vnd.jupyter.widget-view+json": {
       "model_id": "df8b9b9790e64a0e9e932a807e24232b",
       "version_major": 2,
       "version_minor": 0
      },
      "text/plain": [
       "Text(value='', description='New keyword:', placeholder='OYG899')"
      ]
     },
     "metadata": {},
     "output_type": "display_data"
    },
    {
     "data": {
      "application/vnd.jupyter.widget-view+json": {
       "model_id": "4fce8de0125345da9c6e39b0208e9b5f",
       "version_major": 2,
       "version_minor": 0
      },
      "text/plain": [
       "ToggleButtons(description='New keyword:', options=('OYG899',), value='OYG899')"
      ]
     },
     "metadata": {},
     "output_type": "display_data"
    },
    {
     "name": "stdout",
     "output_type": "stream",
     "text": [
      "MATCH!!!\n",
      "MATCH!!!\n",
      "MATCH!!!\n",
      "MATCH!!!\n",
      "MATCH!!!\n"
     ]
    },
    {
     "data": {
      "application/vnd.jupyter.widget-view+json": {
       "model_id": "1e3619e0050b4a66a56a1b26dec9b6ea",
       "version_major": 2,
       "version_minor": 0
      },
      "text/plain": [
       "Text(value='', description='New keyword:', placeholder=' ST1 VÄXJÖ, VÄXJÖ')"
      ]
     },
     "metadata": {},
     "output_type": "display_data"
    },
    {
     "data": {
      "application/vnd.jupyter.widget-view+json": {
       "model_id": "e3367603b7e24002a74229eaa74c7eb4",
       "version_major": 2,
       "version_minor": 0
      },
      "text/plain": [
       "ToggleButtons(description='New keyword:', options=('ST1', 'VÄXJÖ,', 'VÄXJÖ'), value='ST1')"
      ]
     },
     "metadata": {},
     "output_type": "display_data"
    },
    {
     "name": "stdout",
     "output_type": "stream",
     "text": [
      "MATCH!!!\n",
      "MATCH!!!\n"
     ]
    },
    {
     "data": {
      "application/vnd.jupyter.widget-view+json": {
       "model_id": "d1192cb40ab14e4a88b1182b1f0a63b9",
       "version_major": 2,
       "version_minor": 0
      },
      "text/plain": [
       "Text(value='', description='New keyword:', placeholder=' BONAN OCH MUSTASCHEN, VAXJO')"
      ]
     },
     "metadata": {},
     "output_type": "display_data"
    },
    {
     "data": {
      "application/vnd.jupyter.widget-view+json": {
       "model_id": "af74bb96627e41bdb61005516272f8dc",
       "version_major": 2,
       "version_minor": 0
      },
      "text/plain": [
       "ToggleButtons(description='New keyword:', options=('BONAN', 'OCH', 'MUSTASCHEN,', 'VAXJO'), value='BONAN')"
      ]
     },
     "metadata": {},
     "output_type": "display_data"
    },
    {
     "name": "stdout",
     "output_type": "stream",
     "text": [
      "MATCH!!!\n",
      "MATCH!!!\n",
      "MATCH!!!\n",
      "MATCH!!!\n",
      "MATCH!!!\n",
      "MATCH!!!\n",
      "MATCH!!!\n",
      "MATCH!!!\n"
     ]
    },
    {
     "data": {
      "application/vnd.jupyter.widget-view+json": {
       "model_id": "5a92b4fecd8f4f9aaf0a7ee18df1d330",
       "version_major": 2,
       "version_minor": 0
      },
      "text/plain": [
       "Text(value='', description='New keyword:', placeholder=' ELITE VAXJO, VAXJO')"
      ]
     },
     "metadata": {},
     "output_type": "display_data"
    },
    {
     "data": {
      "application/vnd.jupyter.widget-view+json": {
       "model_id": "28ac07190cd043b2a75e0a8901af1ef0",
       "version_major": 2,
       "version_minor": 0
      },
      "text/plain": [
       "ToggleButtons(description='New keyword:', options=('ELITE', 'VAXJO,', 'VAXJO'), value='ELITE')"
      ]
     },
     "metadata": {},
     "output_type": "display_data"
    },
    {
     "name": "stdout",
     "output_type": "stream",
     "text": [
      "MATCH!!!\n",
      "MATCH!!!\n",
      "MATCH!!!\n",
      "MATCH!!!\n",
      "MATCH!!!\n",
      "MATCH!!!\n",
      "MATCH!!!\n",
      "MATCH!!!\n"
     ]
    },
    {
     "data": {
      "application/vnd.jupyter.widget-view+json": {
       "model_id": "b2b4e9a0abd5483c8756fe1a1e390fe1",
       "version_major": 2,
       "version_minor": 0
      },
      "text/plain": [
       "Text(value='', description='New keyword:', placeholder='7074348940')"
      ]
     },
     "metadata": {},
     "output_type": "display_data"
    },
    {
     "data": {
      "application/vnd.jupyter.widget-view+json": {
       "model_id": "61c586b148174840af9cbec6c9dbc972",
       "version_major": 2,
       "version_minor": 0
      },
      "text/plain": [
       "ToggleButtons(description='New keyword:', options=('7074348940',), value='7074348940')"
      ]
     },
     "metadata": {},
     "output_type": "display_data"
    },
    {
     "name": "stdout",
     "output_type": "stream",
     "text": [
      "MATCH!!!\n",
      "MATCH!!!\n"
     ]
    },
    {
     "data": {
      "application/vnd.jupyter.widget-view+json": {
       "model_id": "9e37e741a9b64fc5a3520d87c80c73df",
       "version_major": 2,
       "version_minor": 0
      },
      "text/plain": [
       "Text(value='', description='New keyword:', placeholder='1142890')"
      ]
     },
     "metadata": {},
     "output_type": "display_data"
    },
    {
     "data": {
      "application/vnd.jupyter.widget-view+json": {
       "model_id": "987ddef602b24348b43825aebc6907a7",
       "version_major": 2,
       "version_minor": 0
      },
      "text/plain": [
       "ToggleButtons(description='New keyword:', options=('1142890',), value='1142890')"
      ]
     },
     "metadata": {},
     "output_type": "display_data"
    },
    {
     "name": "stdout",
     "output_type": "stream",
     "text": [
      "MATCH!!!\n",
      "MATCH!!!\n"
     ]
    },
    {
     "data": {
      "application/vnd.jupyter.widget-view+json": {
       "model_id": "c245696d28d94349a72a953b58b607b9",
       "version_major": 2,
       "version_minor": 0
      },
      "text/plain": [
       "Text(value='', description='New keyword:', placeholder='130871')"
      ]
     },
     "metadata": {},
     "output_type": "display_data"
    },
    {
     "data": {
      "application/vnd.jupyter.widget-view+json": {
       "model_id": "d72b37a9bb734800b9cb58d937deea39",
       "version_major": 2,
       "version_minor": 0
      },
      "text/plain": [
       "ToggleButtons(description='New keyword:', options=('130871',), value='130871')"
      ]
     },
     "metadata": {},
     "output_type": "display_data"
    },
    {
     "name": "stdout",
     "output_type": "stream",
     "text": [
      "MATCH!!!\n",
      "MATCH!!!\n",
      "MATCH!!!\n",
      "MATCH!!!\n",
      "MATCH!!!\n"
     ]
    },
    {
     "data": {
      "application/vnd.jupyter.widget-view+json": {
       "model_id": "1d3cae10c55f45b98d1bbde1538cc165",
       "version_major": 2,
       "version_minor": 0
      },
      "text/plain": [
       "Text(value='', description='New keyword:', placeholder=' Klarna *Itsajten, Kalmar')"
      ]
     },
     "metadata": {},
     "output_type": "display_data"
    },
    {
     "data": {
      "application/vnd.jupyter.widget-view+json": {
       "model_id": "25898d3488db4d7584d275254c4b929f",
       "version_major": 2,
       "version_minor": 0
      },
      "text/plain": [
       "ToggleButtons(description='New keyword:', options=('Klarna', '*Itsajten,', 'Kalmar'), value='Klarna')"
      ]
     },
     "metadata": {},
     "output_type": "display_data"
    },
    {
     "name": "stdout",
     "output_type": "stream",
     "text": [
      "MATCH!!!\n",
      "MATCH!!!\n",
      "MATCH!!!\n",
      "MATCH!!!\n",
      "MATCH!!!\n",
      "MATCH!!!\n"
     ]
    },
    {
     "data": {
      "application/vnd.jupyter.widget-view+json": {
       "model_id": "576e1398d432480eb3c354ef61d6e290",
       "version_major": 2,
       "version_minor": 0
      },
      "text/plain": [
       "Text(value='', description='New keyword:', placeholder=' JULA AB, VÄXJÖ')"
      ]
     },
     "metadata": {},
     "output_type": "display_data"
    },
    {
     "data": {
      "application/vnd.jupyter.widget-view+json": {
       "model_id": "7d6bfdba65a842d9833cd8fe904e9f39",
       "version_major": 2,
       "version_minor": 0
      },
      "text/plain": [
       "ToggleButtons(description='New keyword:', options=('JULA', 'AB,', 'VÄXJÖ'), value='JULA')"
      ]
     },
     "metadata": {},
     "output_type": "display_data"
    }
   ],
   "source": [
    "category_in = widgets.ToggleButtons(\n",
    "            options= fincat.keys(),\n",
    "            description='Category:',\n",
    "            disabled=False,\n",
    "            button_style='', \n",
    "            tooltips=[],\n",
    "            )\n",
    "\n",
    "key_in_text = widgets.Text(\n",
    "            placeholder='',\n",
    "            description='New keyword:',\n",
    "            disabled=False\n",
    "            )\n",
    "\n",
    "key_in_button = widgets.ToggleButtons(\n",
    "                options= ['one', 'two'],\n",
    "                description='New keyword:',\n",
    "                disabled=False,\n",
    "                button_style='',\n",
    "                )\n",
    "\n",
    "from ipywidgets import Button, HBox #<----- Add HBox for displaying multiple buttons\n",
    "\n",
    "def wait_for_change(widget1): #<------ Rename to widget1, and add widget2\n",
    "    future = asyncio.Future()\n",
    "    def getvalue(change):\n",
    "        future.set_result(change.description)\n",
    "        widget1.on_click(getvalue, remove=True) #<------ Rename to widget1\n",
    "        # we need to free up the binding to getvalue to avoid an IvalidState error\n",
    "        # buttons don't support unobserve\n",
    "        # so use `remove=True` \n",
    "    widget1.on_click(getvalue) #<------ Rename to widget1\n",
    "    return future\n",
    "\n",
    "button1=Button(description=\"Next\", button_style='success') #<------ Rename to button1\n",
    "\n",
    "async def categorize(df = fin, d = fincat):\n",
    "    if not 'category' in df.columns:\n",
    "        df['category'] = 'NaN'\n",
    "        \n",
    "    matches = 0\n",
    "    keyin_text = '##############################'\n",
    "\n",
    "\n",
    "    for i, row in df.iterrows():\n",
    "        \n",
    "        match = False\n",
    "        key_iter = 0\n",
    "        total_len = sum(len(v) for v in iter(d.values()))\n",
    "        \n",
    "        key_in_text = widgets.Text(\n",
    "            placeholder=row['desc'],\n",
    "            description='New keyword:',\n",
    "            disabled=False\n",
    "        )\n",
    "\n",
    "        key_in_button = widgets.ToggleButtons(\n",
    "            options= row['desc'].split(),\n",
    "            description='New keyword:',\n",
    "            disabled=False,\n",
    "            button_style='',\n",
    "        )\n",
    "\n",
    "        for category, keylist in d.items():\n",
    "            if match == True:\n",
    "                match = False\n",
    "                break\n",
    "\n",
    "            for key in keylist:\n",
    "                \n",
    "                key_iter += 1\n",
    "\n",
    "                if str(row['desc']).find(key) != -1:\n",
    "                    matches += 1\n",
    "                    df.loc[i,'category'] = category\n",
    "                    print('MATCH!!!')\n",
    "                    match = True\n",
    "                    break\n",
    "\n",
    "                elif (key_iter >= total_len) & (keyin_text == 'break'):\n",
    "                    break\n",
    "\n",
    "                elif key_iter >= total_len:\n",
    "                    \n",
    "                    display(key_in_text, key_in_button)\n",
    "                    x = await wait_for_change(button1) #<---- Pass both buttons into the function\n",
    "                    \n",
    "                    catin = category_in.value\n",
    "                    keyin_text = key_in_text.value\n",
    "                    keyin_button = key_in_button.value\n",
    "                    \n",
    "                    if keyin_text == 'break':\n",
    "                        break\n",
    "                    elif key_in_text == '':\n",
    "                        d[catin].append(str(keyin_text))\n",
    "                    else:\n",
    "                        d[catin].append(str(keyin_button))\n",
    "                        df.loc[i,'category'] = catin\n",
    "                        print('MATCH!!!')\n",
    "                        match = True\n",
    "    print(matches, fin, fincat)\n",
    "\n",
    "asyncio.create_task(categorize(fin, fincat))\n",
    "HBox([button1, category_in]) #<----Display both buttons in an HBox"
   ]
  },
  {
   "cell_type": "code",
   "execution_count": 17,
   "metadata": {},
   "outputs": [
    {
     "data": {
      "text/plain": [
       "{'literature': [],\n",
       " 'revolut': ['REVOLUT'],\n",
       " 'charity': ['MEDLEY'],\n",
       " 'utilities': [],\n",
       " 'alcohol': ['SYSTEMBOLAGET'],\n",
       " 'holidays': [],\n",
       " 'gifts': [],\n",
       " 'furniture': [],\n",
       " 'tools': [],\n",
       " 'electro': ['NETONNET', 'WEBHALLEN.COM,'],\n",
       " 'phone': [],\n",
       " 'rent': ['ARABYBOST'],\n",
       " 'car': [],\n",
       " 'food': ['WILLYS', 'LIDL', 'PRESSBYRÅN', 'MAX', 'BURGER', 'ICA'],\n",
       " 'transportation': [],\n",
       " 'trips_home': [],\n",
       " 'clothes': [],\n",
       " 'freetime': ['CAFE,'],\n",
       " 'exercise': [],\n",
       " 'health': [],\n",
       " 'savings': ['8807910'],\n",
       " 'misc': ['Swish',\n",
       "  'BUUKS.SE,',\n",
       "  'Autogiro',\n",
       "  'LÖN',\n",
       "  'Elgiganten.se,',\n",
       "  'MEDIA',\n",
       "  'CYKELGEAR.SE,',\n",
       "  'CYKEL',\n",
       "  'WIKIPEDIA',\n",
       "  'kontaktlös',\n",
       "  'CDON',\n",
       "  'ZALANDO',\n",
       "  '16127',\n",
       "  'MMP',\n",
       "  'INTERSPORT',\n",
       "  'CLAS',\n",
       "  'Stanek',\n",
       "  'BILTEMA',\n",
       "  'Insättning',\n",
       "  'EPIDOTEN',\n",
       "  'BG',\n",
       "  'ESPRESSO',\n",
       "  'Månadsavgift',\n",
       "  'PG',\n",
       "  'LINNEAMOTTAGNINGEN,',\n",
       "  'LANDSTINGET',\n",
       "  'Överföring',\n",
       "  'DUSTIN',\n",
       "  'HM.COM,',\n",
       "  'HOBBYISTERNA',\n",
       "  'NETFLIX.COM,',\n",
       "  'CIRCLE',\n",
       "  'APOTEK',\n",
       "  'COOP',\n",
       "  '?HL?NS',\n",
       "  'LIVETS',\n",
       "  'CYRANO,',\n",
       "  'HEMKÖP',\n",
       "  'VOLT',\n",
       "  'LEVIS',\n",
       "  'KAPPAHL',\n",
       "  'BARA',\n",
       "  'OYG899',\n",
       "  'ST1',\n",
       "  'XXL',\n",
       "  'CONDECO',\n",
       "  'BD',\n",
       "  'BONAN',\n",
       "  'ELGIGANTEN',\n",
       "  'ELITE',\n",
       "  '7074348940',\n",
       "  '1142890',\n",
       "  '130871',\n",
       "  'Klarna',\n",
       "  'JULA',\n",
       "  'IKEA'],\n",
       " 'salary': []}"
      ]
     },
     "execution_count": 17,
     "metadata": {},
     "output_type": "execute_result"
    }
   ],
   "source": [
    "fincat"
   ]
  }
 ],
 "metadata": {
  "kernelspec": {
   "display_name": "Python 3",
   "language": "python",
   "name": "python3"
  },
  "language_info": {
   "codemirror_mode": {
    "name": "ipython",
    "version": 3
   },
   "file_extension": ".py",
   "mimetype": "text/x-python",
   "name": "python",
   "nbconvert_exporter": "python",
   "pygments_lexer": "ipython3",
   "version": "3.6.9"
  }
 },
 "nbformat": 4,
 "nbformat_minor": 4
}
