{
 "cells": [
  {
   "cell_type": "code",
   "execution_count": 8,
   "metadata": {},
   "outputs": [],
   "source": []
  },
  {
   "cell_type": "code",
   "execution_count": 5,
   "metadata": {},
   "outputs": [],
   "source": [
    "from functools import wraps\n",
    "\n",
    "def yield_for_change(widget):\n",
    "    def f(iterator):\n",
    "        @wraps(iterator)\n",
    "        def inner():\n",
    "            i = iterator()\n",
    "            def next_i(change):\n",
    "                try:\n",
    "                    i.send(change)\n",
    "                except StopIteration as e:\n",
    "                    widget.unobserve(next_i)\n",
    "            widget.on_click(next_i)\n",
    "            # start the generator\n",
    "            next(i)\n",
    "        return inner\n",
    "    return f"
   ]
  },
  {
   "cell_type": "code",
   "execution_count": 35,
   "metadata": {},
   "outputs": [
    {
     "data": {
      "application/vnd.jupyter.widget-view+json": {
       "model_id": "1b3286c4cca94b8b9c645c97d0fef5eb",
       "version_major": 2,
       "version_minor": 0
      },
      "text/plain": [
       "Button(button_style=u'success', description=u'Press to proceed', style=ButtonStyle())"
      ]
     },
     "metadata": {},
     "output_type": "display_data"
    },
    {
     "name": "stdout",
     "output_type": "stream",
     "text": [
      "did work 0\n",
      "but\n",
      "it\n",
      "is\n",
      "going\n",
      "anyway\n",
      "Button clicked.\n",
      "did work 1\n"
     ]
    }
   ],
   "source": [
    "import ipywidgets as widgets\n",
    "\n",
    "\n",
    "proceed = widgets.Button(\n",
    "    description='Press to proceed',\n",
    "    disabled=False,\n",
    "    button_style= 'success', \n",
    "    tooltips=[],\n",
    ")\n",
    "\n",
    "\n",
    "\n",
    "@yield_for_change(proceed)\n",
    "def f():\n",
    "    for i in range(3):\n",
    "        print('did work %s'%i)\n",
    "        x = yield\n",
    "        print(\"Button clicked.\")\n",
    "\n",
    "display(proceed)\n",
    "\n",
    "f()\n",
    "\n",
    "print('but')\n",
    "print('it')\n",
    "print('is')\n",
    "print('going')\n",
    "print('anyway')"
   ]
  },
  {
   "cell_type": "code",
   "execution_count": 1,
   "metadata": {},
   "outputs": [
    {
     "data": {
      "application/vnd.jupyter.widget-view+json": {
       "model_id": "a25948ea665145b499fc06844aeb139d",
       "version_major": 2,
       "version_minor": 0
      },
      "text/plain": [
       "HBox(children=(Button(description='wow', style=ButtonStyle()), Button(description='wow2', style=ButtonStyle())…"
      ]
     },
     "metadata": {},
     "output_type": "display_data"
    },
    {
     "name": "stdout",
     "output_type": "stream",
     "text": [
      "going to tag  one\n",
      "tagged  one with  wow\n",
      "\n",
      "\n",
      "going to tag  two\n",
      "two tagged with wow2\n",
      "\n",
      "\n",
      "going to tag  three\n",
      "tagged  three with  wow\n",
      "\n",
      "\n",
      "going to tag  four\n",
      "tagged  four with  wow\n",
      "\n",
      "\n"
     ]
    }
   ],
   "source": [
    "from ipywidgets import Button, HBox #<----- Add HBox for displaying multiple buttons\n",
    "import asyncio\n",
    "\n",
    "def wait_for_change(widget1, widget2): #<------ Rename to widget1, and add widget2\n",
    "    future = asyncio.Future()\n",
    "    def getvalue(change):\n",
    "        future.set_result(change.description)\n",
    "        widget1.on_click(getvalue, remove=True) #<------ Rename to widget1\n",
    "        widget2.on_click(getvalue, remove=True) #<------ New widget2\n",
    "        # we need to free up the binding to getvalue to avoid an IvalidState error\n",
    "        # buttons don't support unobserve\n",
    "        # so use `remove=True` \n",
    "    widget1.on_click(getvalue) #<------ Rename to widget1\n",
    "    widget2.on_click(getvalue) #<------ New widget2\n",
    "    return future\n",
    "\n",
    "button1=Button(description=\"wow\") #<------ Rename to button1\n",
    "button2=Button(description=\"wow2\") #<------ New button2 and description\n",
    "\n",
    "list_to_tag = [\"one\", \"two\", \"three\", \"four\"]\n",
    "\n",
    "async def f():\n",
    "    for i in list_to_tag:\n",
    "        print('going to tag ', i)\n",
    "        x = await wait_for_change(button1,button2) #<---- Pass both buttons into the function\n",
    "        if x == \"wow\": #<--- use if statement to trigger different events for the two buttons\n",
    "            print(\"tagged \", i, \"with  %s\"%x)\n",
    "        else:\n",
    "            print(i, \"tagged with %s\"%x)\n",
    "        print(\"\")\n",
    "        print(\"\")\n",
    "\n",
    "asyncio.create_task(f())\n",
    "HBox([button1,button2]) #<----Display both buttons in an HBox"
   ]
  }
 ],
 "metadata": {
  "kernelspec": {
   "display_name": "Python 3",
   "language": "python",
   "name": "python3"
  },
  "language_info": {
   "codemirror_mode": {
    "name": "ipython",
    "version": 3
   },
   "file_extension": ".py",
   "mimetype": "text/x-python",
   "name": "python",
   "nbconvert_exporter": "python",
   "pygments_lexer": "ipython3",
   "version": "3.7.7"
  }
 },
 "nbformat": 4,
 "nbformat_minor": 2
}
